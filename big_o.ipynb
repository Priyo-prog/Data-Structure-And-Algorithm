{
 "cells": [
  {
   "cell_type": "markdown",
   "id": "d2b39af1-c8a3-48ac-87ac-f0f783160461",
   "metadata": {},
   "source": [
    "# **Big O**\n",
    "\n",
    "Big O is about time complexity but it doesn't record time but the number of operations\n"
   ]
  },
  {
   "cell_type": "code",
   "execution_count": 5,
   "id": "58092ecb-5bbe-42b7-ab4c-60ea3f8506fd",
   "metadata": {},
   "outputs": [],
   "source": [
    "def print_items(n):\n",
    "    for i in range(n):\n",
    "        print(i)"
   ]
  },
  {
   "cell_type": "code",
   "execution_count": 7,
   "id": "743b3c74-3ad3-4ccd-995a-9eaa105c2cb0",
   "metadata": {},
   "outputs": [
    {
     "name": "stdout",
     "output_type": "stream",
     "text": [
      "0\n",
      "1\n",
      "2\n",
      "3\n",
      "4\n",
      "5\n",
      "6\n",
      "7\n",
      "8\n",
      "9\n"
     ]
    }
   ],
   "source": [
    "print_items(10)"
   ]
  },
  {
   "cell_type": "code",
   "execution_count": null,
   "id": "52edfd67-fac2-42b2-bdeb-7b7cd1aa0bc4",
   "metadata": {},
   "outputs": [],
   "source": []
  }
 ],
 "metadata": {
  "kernelspec": {
   "display_name": "Python 3 (ipykernel)",
   "language": "python",
   "name": "python3"
  },
  "language_info": {
   "codemirror_mode": {
    "name": "ipython",
    "version": 3
   },
   "file_extension": ".py",
   "mimetype": "text/x-python",
   "name": "python",
   "nbconvert_exporter": "python",
   "pygments_lexer": "ipython3",
   "version": "3.11.2"
  }
 },
 "nbformat": 4,
 "nbformat_minor": 5
}
